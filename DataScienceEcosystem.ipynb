{
 "cells": [
  {
   "cell_type": "markdown",
   "id": "b7220483-4cb6-4e26-aac1-27b7a413ba86",
   "metadata": {},
   "source": [
    "# Data Science Tools and Ecosystem"
   ]
  },
  {
   "cell_type": "markdown",
   "id": "02ce506c-d6c9-4566-ac26-65c7ad76ef26",
   "metadata": {},
   "source": [
    "In this notebook, Data Science Tools and Ecosystem are summarized. "
   ]
  },
  {
   "cell_type": "markdown",
   "id": "1cfec4bc-75a4-4b0e-8611-3c2e785224d2",
   "metadata": {},
   "source": [
    "**Objectives**\n",
    "- list popular languages for Data Science\n",
    "- list commonly used libraries for Data Science\n",
    "- table of Data Science Tools\n",
    "- list and evaluate arithmetic expression in Python"
   ]
  },
  {
   "cell_type": "markdown",
   "id": "e2acf00c-943c-4f86-be0a-d4775c5a0f6c",
   "metadata": {},
   "source": [
    "Some of the popular languages that Data Science use are:\n",
    "1. Python\n",
    "2. R\n",
    "3. SQL"
   ]
  },
  {
   "cell_type": "markdown",
   "id": "a0d5fd1d-5db6-4f63-8f5c-24e943e42d49",
   "metadata": {},
   "source": [
    "Some of the commonly used libraries used by Data Scientists include:\n",
    "1. Pandas\n",
    "2. Matplotlib\n",
    "3. NumPy"
   ]
  },
  {
   "cell_type": "markdown",
   "id": "98651914-3fc4-45a7-9dcc-9db298052cc5",
   "metadata": {
    "tags": []
   },
   "source": [
    "| Data Science Tools |\n",
    "| -------------|\n",
    "| MySQL |\n",
    "| PostgreSQL |\n",
    "| MongoDB |"
   ]
  },
  {
   "cell_type": "markdown",
   "id": "40f7c0c9-b5ee-4fdf-a59e-9a6b85f0165f",
   "metadata": {},
   "source": [
    "### Below are a few examples of evaluating arithmetic expressions in Python\n",
    "- (+) addition\n",
    "- (-) subtraction\n",
    "- (*) multiplication\n",
    "- (/) division"
   ]
  },
  {
   "cell_type": "code",
   "execution_count": 3,
   "id": "dfc070e0-c541-4b19-914b-64b523ce7d77",
   "metadata": {
    "tags": []
   },
   "outputs": [
    {
     "data": {
      "text/plain": [
       "17"
      ]
     },
     "execution_count": 3,
     "metadata": {},
     "output_type": "execute_result"
    }
   ],
   "source": [
    "#This a simple arithmetic expression to multiply then add integers\n",
    "(3*4)+5"
   ]
  },
  {
   "cell_type": "code",
   "execution_count": 8,
   "id": "e07bbd49-ffb3-466e-a8fe-3ab8c06a19ab",
   "metadata": {
    "tags": []
   },
   "outputs": [
    {
     "data": {
      "text/plain": [
       "3.3333333333333335"
      ]
     },
     "execution_count": 8,
     "metadata": {},
     "output_type": "execute_result"
    }
   ],
   "source": [
    "#This will convert 200 minutes to hours by dividing 60.\n",
    "minutes = 200\n",
    "hours = minutes / 60\n",
    "hours"
   ]
  },
  {
   "cell_type": "markdown",
   "id": "53b61c0f-0a54-46ac-8426-a6d8c5fff216",
   "metadata": {},
   "source": [
    "## Author\n",
    "Dalya Huzeyen"
   ]
  },
  {
   "cell_type": "code",
   "execution_count": null,
   "id": "f13e4133-502c-40e8-a173-8dd417da1519",
   "metadata": {},
   "outputs": [],
   "source": []
  }
 ],
 "metadata": {
  "kernelspec": {
   "display_name": "Python",
   "language": "python",
   "name": "conda-env-python-py"
  },
  "language_info": {
   "codemirror_mode": {
    "name": "ipython",
    "version": 3
   },
   "file_extension": ".py",
   "mimetype": "text/x-python",
   "name": "python",
   "nbconvert_exporter": "python",
   "pygments_lexer": "ipython3",
   "version": "3.7.12"
  }
 },
 "nbformat": 4,
 "nbformat_minor": 5
}
